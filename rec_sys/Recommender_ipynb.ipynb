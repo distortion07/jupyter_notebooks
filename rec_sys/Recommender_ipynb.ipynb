{
 "cells": [
  {
   "cell_type": "markdown",
   "metadata": {
    "id": "fJyNE_oTkW4J"
   },
   "source": [
    "## Рекомендательная система"
   ]
  },
  {
   "cell_type": "markdown",
   "metadata": {
    "id": "29PZwIIfG2vr"
   },
   "source": [
    "### Этап 1. Подготовка данных"
   ]
  },
  {
   "cell_type": "code",
   "execution_count": 66,
   "metadata": {
    "id": "oQl3dVqzkURp"
   },
   "outputs": [],
   "source": [
    "# эти библиотеки нам уже знакомы\n",
    "import pandas as pd\n",
    "import numpy as np\n",
    "\n",
    "# модуль sparse библиотеки scipy понадобится\n",
    "# для работы с разреженными матрицами (об этом ниже)\n",
    "from scipy.sparse import csr_matrix\n",
    "\n",
    "# из sklearn мы импортируем алгоритм k-ближайших соседей\n",
    "from sklearn.neighbors import NearestNeighbors"
   ]
  },
  {
   "cell_type": "markdown",
   "metadata": {
    "id": "XMNXP-68Hcgs"
   },
   "source": [
    "Для начала прочитаем внешние файлы"
   ]
  },
  {
   "cell_type": "code",
   "execution_count": 67,
   "metadata": {
    "id": "pjbblChoG8n3"
   },
   "outputs": [],
   "source": [
    "# прочитаем внешние файлы (перед этим их необходимо импортировать) и преобразуем в датафрейм\n",
    "movies = pd.read_csv('cellphones_data.csv')\n",
    "ratings = pd.read_csv('cellphones_ratings.csv')"
   ]
  },
  {
   "cell_type": "code",
   "execution_count": 68,
   "metadata": {
    "colab": {
     "base_uri": "https://localhost:8080/",
     "height": 143
    },
    "id": "eW_43prCoqKY",
    "outputId": "8ed0eeb1-c3a5-48c6-9ac8-8255445835e1"
   },
   "outputs": [
    {
     "data": {
      "text/html": [
       "<div>\n",
       "<style scoped>\n",
       "    .dataframe tbody tr th:only-of-type {\n",
       "        vertical-align: middle;\n",
       "    }\n",
       "\n",
       "    .dataframe tbody tr th {\n",
       "        vertical-align: top;\n",
       "    }\n",
       "\n",
       "    .dataframe thead th {\n",
       "        text-align: right;\n",
       "    }\n",
       "</style>\n",
       "<table border=\"1\" class=\"dataframe\">\n",
       "  <thead>\n",
       "    <tr style=\"text-align: right;\">\n",
       "      <th></th>\n",
       "      <th>cellphone_id</th>\n",
       "      <th>brand</th>\n",
       "      <th>model</th>\n",
       "      <th>operating system</th>\n",
       "      <th>internal memory</th>\n",
       "    </tr>\n",
       "  </thead>\n",
       "  <tbody>\n",
       "    <tr>\n",
       "      <th>0</th>\n",
       "      <td>0</td>\n",
       "      <td>Apple</td>\n",
       "      <td>iPhone SE (2022)</td>\n",
       "      <td>iOS</td>\n",
       "      <td>128</td>\n",
       "    </tr>\n",
       "    <tr>\n",
       "      <th>1</th>\n",
       "      <td>1</td>\n",
       "      <td>Apple</td>\n",
       "      <td>iPhone 13 Mini</td>\n",
       "      <td>iOS</td>\n",
       "      <td>128</td>\n",
       "    </tr>\n",
       "    <tr>\n",
       "      <th>2</th>\n",
       "      <td>2</td>\n",
       "      <td>Apple</td>\n",
       "      <td>iPhone 13</td>\n",
       "      <td>iOS</td>\n",
       "      <td>128</td>\n",
       "    </tr>\n",
       "  </tbody>\n",
       "</table>\n",
       "</div>"
      ],
      "text/plain": [
       "   cellphone_id  brand             model operating system  internal memory\n",
       "0             0  Apple  iPhone SE (2022)              iOS              128\n",
       "1             1  Apple    iPhone 13 Mini              iOS              128\n",
       "2             2  Apple         iPhone 13              iOS              128"
      ]
     },
     "execution_count": 68,
     "metadata": {},
     "output_type": "execute_result"
    }
   ],
   "source": [
    "# посмотрим на содержимое файла movies.csv\n",
    "# дополнительно удалим столбец genres, он нам не нужен\n",
    "# (параметр axis = 1 говорит, что мы работаем со столбцами, inplace = True, что изменения нужно сохранить)\n",
    "movies.drop(['RAM', 'performance', 'main camera',\n",
    "            'selfie camera', 'battery size', 'screen size', 'weight', 'price', 'release date'], axis = 1, inplace = True)\n",
    "movies.head(3)"
   ]
  },
  {
   "cell_type": "code",
   "execution_count": 69,
   "metadata": {
    "colab": {
     "base_uri": "https://localhost:8080/",
     "height": 143
    },
    "id": "MM4Mm5YEoqpv",
    "outputId": "04002d26-e309-4668-abea-798aaf37a1d7"
   },
   "outputs": [
    {
     "data": {
      "text/html": [
       "<div>\n",
       "<style scoped>\n",
       "    .dataframe tbody tr th:only-of-type {\n",
       "        vertical-align: middle;\n",
       "    }\n",
       "\n",
       "    .dataframe tbody tr th {\n",
       "        vertical-align: top;\n",
       "    }\n",
       "\n",
       "    .dataframe thead th {\n",
       "        text-align: right;\n",
       "    }\n",
       "</style>\n",
       "<table border=\"1\" class=\"dataframe\">\n",
       "  <thead>\n",
       "    <tr style=\"text-align: right;\">\n",
       "      <th></th>\n",
       "      <th>user_id</th>\n",
       "      <th>cellphone_id</th>\n",
       "      <th>rating</th>\n",
       "    </tr>\n",
       "  </thead>\n",
       "  <tbody>\n",
       "    <tr>\n",
       "      <th>0</th>\n",
       "      <td>0</td>\n",
       "      <td>30</td>\n",
       "      <td>1</td>\n",
       "    </tr>\n",
       "    <tr>\n",
       "      <th>1</th>\n",
       "      <td>0</td>\n",
       "      <td>5</td>\n",
       "      <td>3</td>\n",
       "    </tr>\n",
       "    <tr>\n",
       "      <th>2</th>\n",
       "      <td>0</td>\n",
       "      <td>10</td>\n",
       "      <td>9</td>\n",
       "    </tr>\n",
       "  </tbody>\n",
       "</table>\n",
       "</div>"
      ],
      "text/plain": [
       "   user_id  cellphone_id  rating\n",
       "0        0            30       1\n",
       "1        0             5       3\n",
       "2        0            10       9"
      ]
     },
     "execution_count": 69,
     "metadata": {},
     "output_type": "execute_result"
    }
   ],
   "source": [
    "# и ratings.csv (здесь также удаляем ненужный столбец timestamp)\n",
    "# ratings.drop(['timestamp'], axis = 1, inplace = True)\n",
    "ratings.head(3)"
   ]
  },
  {
   "cell_type": "code",
   "execution_count": 70,
   "metadata": {
    "colab": {
     "base_uri": "https://localhost:8080/",
     "height": 267
    },
    "id": "aFlcOLszjCPt",
    "outputId": "76ec74fd-2a5d-47dd-e43b-ec9ac897e20c"
   },
   "outputs": [
    {
     "data": {
      "text/html": [
       "<div>\n",
       "<style scoped>\n",
       "    .dataframe tbody tr th:only-of-type {\n",
       "        vertical-align: middle;\n",
       "    }\n",
       "\n",
       "    .dataframe tbody tr th {\n",
       "        vertical-align: top;\n",
       "    }\n",
       "\n",
       "    .dataframe thead th {\n",
       "        text-align: right;\n",
       "    }\n",
       "</style>\n",
       "<table border=\"1\" class=\"dataframe\">\n",
       "  <thead>\n",
       "    <tr style=\"text-align: right;\">\n",
       "      <th>user_id</th>\n",
       "      <th>0</th>\n",
       "      <th>1</th>\n",
       "      <th>6</th>\n",
       "      <th>8</th>\n",
       "      <th>10</th>\n",
       "      <th>12</th>\n",
       "      <th>16</th>\n",
       "      <th>24</th>\n",
       "      <th>25</th>\n",
       "      <th>26</th>\n",
       "      <th>...</th>\n",
       "      <th>245</th>\n",
       "      <th>246</th>\n",
       "      <th>251</th>\n",
       "      <th>252</th>\n",
       "      <th>253</th>\n",
       "      <th>254</th>\n",
       "      <th>255</th>\n",
       "      <th>256</th>\n",
       "      <th>257</th>\n",
       "      <th>258</th>\n",
       "    </tr>\n",
       "    <tr>\n",
       "      <th>cellphone_id</th>\n",
       "      <th></th>\n",
       "      <th></th>\n",
       "      <th></th>\n",
       "      <th></th>\n",
       "      <th></th>\n",
       "      <th></th>\n",
       "      <th></th>\n",
       "      <th></th>\n",
       "      <th></th>\n",
       "      <th></th>\n",
       "      <th></th>\n",
       "      <th></th>\n",
       "      <th></th>\n",
       "      <th></th>\n",
       "      <th></th>\n",
       "      <th></th>\n",
       "      <th></th>\n",
       "      <th></th>\n",
       "      <th></th>\n",
       "      <th></th>\n",
       "      <th></th>\n",
       "    </tr>\n",
       "  </thead>\n",
       "  <tbody>\n",
       "    <tr>\n",
       "      <th>0</th>\n",
       "      <td>NaN</td>\n",
       "      <td>NaN</td>\n",
       "      <td>NaN</td>\n",
       "      <td>5.0</td>\n",
       "      <td>NaN</td>\n",
       "      <td>NaN</td>\n",
       "      <td>1.0</td>\n",
       "      <td>NaN</td>\n",
       "      <td>NaN</td>\n",
       "      <td>NaN</td>\n",
       "      <td>...</td>\n",
       "      <td>NaN</td>\n",
       "      <td>8.0</td>\n",
       "      <td>NaN</td>\n",
       "      <td>NaN</td>\n",
       "      <td>8.0</td>\n",
       "      <td>NaN</td>\n",
       "      <td>NaN</td>\n",
       "      <td>NaN</td>\n",
       "      <td>7.0</td>\n",
       "      <td>NaN</td>\n",
       "    </tr>\n",
       "    <tr>\n",
       "      <th>1</th>\n",
       "      <td>NaN</td>\n",
       "      <td>NaN</td>\n",
       "      <td>2.0</td>\n",
       "      <td>NaN</td>\n",
       "      <td>NaN</td>\n",
       "      <td>NaN</td>\n",
       "      <td>NaN</td>\n",
       "      <td>NaN</td>\n",
       "      <td>NaN</td>\n",
       "      <td>NaN</td>\n",
       "      <td>...</td>\n",
       "      <td>NaN</td>\n",
       "      <td>NaN</td>\n",
       "      <td>NaN</td>\n",
       "      <td>NaN</td>\n",
       "      <td>NaN</td>\n",
       "      <td>5.0</td>\n",
       "      <td>10.0</td>\n",
       "      <td>NaN</td>\n",
       "      <td>NaN</td>\n",
       "      <td>NaN</td>\n",
       "    </tr>\n",
       "    <tr>\n",
       "      <th>2</th>\n",
       "      <td>NaN</td>\n",
       "      <td>NaN</td>\n",
       "      <td>NaN</td>\n",
       "      <td>NaN</td>\n",
       "      <td>NaN</td>\n",
       "      <td>NaN</td>\n",
       "      <td>NaN</td>\n",
       "      <td>NaN</td>\n",
       "      <td>9.0</td>\n",
       "      <td>NaN</td>\n",
       "      <td>...</td>\n",
       "      <td>6.0</td>\n",
       "      <td>NaN</td>\n",
       "      <td>7.0</td>\n",
       "      <td>NaN</td>\n",
       "      <td>NaN</td>\n",
       "      <td>NaN</td>\n",
       "      <td>NaN</td>\n",
       "      <td>7.0</td>\n",
       "      <td>6.0</td>\n",
       "      <td>NaN</td>\n",
       "    </tr>\n",
       "    <tr>\n",
       "      <th>3</th>\n",
       "      <td>10.0</td>\n",
       "      <td>10.0</td>\n",
       "      <td>NaN</td>\n",
       "      <td>NaN</td>\n",
       "      <td>9.0</td>\n",
       "      <td>NaN</td>\n",
       "      <td>NaN</td>\n",
       "      <td>10.0</td>\n",
       "      <td>NaN</td>\n",
       "      <td>10.0</td>\n",
       "      <td>...</td>\n",
       "      <td>NaN</td>\n",
       "      <td>NaN</td>\n",
       "      <td>NaN</td>\n",
       "      <td>NaN</td>\n",
       "      <td>4.0</td>\n",
       "      <td>NaN</td>\n",
       "      <td>NaN</td>\n",
       "      <td>NaN</td>\n",
       "      <td>NaN</td>\n",
       "      <td>NaN</td>\n",
       "    </tr>\n",
       "    <tr>\n",
       "      <th>4</th>\n",
       "      <td>NaN</td>\n",
       "      <td>7.0</td>\n",
       "      <td>NaN</td>\n",
       "      <td>NaN</td>\n",
       "      <td>9.0</td>\n",
       "      <td>NaN</td>\n",
       "      <td>NaN</td>\n",
       "      <td>NaN</td>\n",
       "      <td>NaN</td>\n",
       "      <td>9.0</td>\n",
       "      <td>...</td>\n",
       "      <td>8.0</td>\n",
       "      <td>NaN</td>\n",
       "      <td>8.0</td>\n",
       "      <td>6.0</td>\n",
       "      <td>8.0</td>\n",
       "      <td>NaN</td>\n",
       "      <td>10.0</td>\n",
       "      <td>5.0</td>\n",
       "      <td>8.0</td>\n",
       "      <td>NaN</td>\n",
       "    </tr>\n",
       "  </tbody>\n",
       "</table>\n",
       "<p>5 rows × 99 columns</p>\n",
       "</div>"
      ],
      "text/plain": [
       "user_id        0     1    6    8    10   12   16    24   25    26   ...  245  \\\n",
       "cellphone_id                                                        ...        \n",
       "0              NaN   NaN  NaN  5.0  NaN  NaN  1.0   NaN  NaN   NaN  ...  NaN   \n",
       "1              NaN   NaN  2.0  NaN  NaN  NaN  NaN   NaN  NaN   NaN  ...  NaN   \n",
       "2              NaN   NaN  NaN  NaN  NaN  NaN  NaN   NaN  9.0   NaN  ...  6.0   \n",
       "3             10.0  10.0  NaN  NaN  9.0  NaN  NaN  10.0  NaN  10.0  ...  NaN   \n",
       "4              NaN   7.0  NaN  NaN  9.0  NaN  NaN   NaN  NaN   9.0  ...  8.0   \n",
       "\n",
       "user_id       246  251  252  253  254   255  256  257  258  \n",
       "cellphone_id                                                \n",
       "0             8.0  NaN  NaN  8.0  NaN   NaN  NaN  7.0  NaN  \n",
       "1             NaN  NaN  NaN  NaN  5.0  10.0  NaN  NaN  NaN  \n",
       "2             NaN  7.0  NaN  NaN  NaN   NaN  7.0  6.0  NaN  \n",
       "3             NaN  NaN  NaN  4.0  NaN   NaN  NaN  NaN  NaN  \n",
       "4             NaN  8.0  6.0  8.0  NaN  10.0  5.0  8.0  NaN  \n",
       "\n",
       "[5 rows x 99 columns]"
      ]
     },
     "execution_count": 70,
     "metadata": {},
     "output_type": "execute_result"
    }
   ],
   "source": [
    "# для этого воспользуемся функцией pivot и создадим сводную таблицу (pivot table)\n",
    "# по горизонтали будут фильмы, по вертикали - пользователи, значения - оценки\n",
    "user_item_matrix = ratings.pivot(index = 'cellphone_id', columns = 'user_id', values= 'rating')\n",
    "user_item_matrix.head()"
   ]
  },
  {
   "cell_type": "code",
   "execution_count": 71,
   "metadata": {
    "colab": {
     "base_uri": "https://localhost:8080/",
     "height": 267
    },
    "id": "GuaInvARjNe0",
    "outputId": "9e55a0c6-65c3-4ac5-8fa6-0f2589f4dda8"
   },
   "outputs": [
    {
     "data": {
      "text/html": [
       "<div>\n",
       "<style scoped>\n",
       "    .dataframe tbody tr th:only-of-type {\n",
       "        vertical-align: middle;\n",
       "    }\n",
       "\n",
       "    .dataframe tbody tr th {\n",
       "        vertical-align: top;\n",
       "    }\n",
       "\n",
       "    .dataframe thead th {\n",
       "        text-align: right;\n",
       "    }\n",
       "</style>\n",
       "<table border=\"1\" class=\"dataframe\">\n",
       "  <thead>\n",
       "    <tr style=\"text-align: right;\">\n",
       "      <th>user_id</th>\n",
       "      <th>0</th>\n",
       "      <th>1</th>\n",
       "      <th>6</th>\n",
       "      <th>8</th>\n",
       "      <th>10</th>\n",
       "      <th>12</th>\n",
       "      <th>16</th>\n",
       "      <th>24</th>\n",
       "      <th>25</th>\n",
       "      <th>26</th>\n",
       "      <th>...</th>\n",
       "      <th>245</th>\n",
       "      <th>246</th>\n",
       "      <th>251</th>\n",
       "      <th>252</th>\n",
       "      <th>253</th>\n",
       "      <th>254</th>\n",
       "      <th>255</th>\n",
       "      <th>256</th>\n",
       "      <th>257</th>\n",
       "      <th>258</th>\n",
       "    </tr>\n",
       "    <tr>\n",
       "      <th>cellphone_id</th>\n",
       "      <th></th>\n",
       "      <th></th>\n",
       "      <th></th>\n",
       "      <th></th>\n",
       "      <th></th>\n",
       "      <th></th>\n",
       "      <th></th>\n",
       "      <th></th>\n",
       "      <th></th>\n",
       "      <th></th>\n",
       "      <th></th>\n",
       "      <th></th>\n",
       "      <th></th>\n",
       "      <th></th>\n",
       "      <th></th>\n",
       "      <th></th>\n",
       "      <th></th>\n",
       "      <th></th>\n",
       "      <th></th>\n",
       "      <th></th>\n",
       "      <th></th>\n",
       "    </tr>\n",
       "  </thead>\n",
       "  <tbody>\n",
       "    <tr>\n",
       "      <th>0</th>\n",
       "      <td>0.0</td>\n",
       "      <td>0.0</td>\n",
       "      <td>0.0</td>\n",
       "      <td>5.0</td>\n",
       "      <td>0.0</td>\n",
       "      <td>0.0</td>\n",
       "      <td>1.0</td>\n",
       "      <td>0.0</td>\n",
       "      <td>0.0</td>\n",
       "      <td>0.0</td>\n",
       "      <td>...</td>\n",
       "      <td>0.0</td>\n",
       "      <td>8.0</td>\n",
       "      <td>0.0</td>\n",
       "      <td>0.0</td>\n",
       "      <td>8.0</td>\n",
       "      <td>0.0</td>\n",
       "      <td>0.0</td>\n",
       "      <td>0.0</td>\n",
       "      <td>7.0</td>\n",
       "      <td>0.0</td>\n",
       "    </tr>\n",
       "    <tr>\n",
       "      <th>1</th>\n",
       "      <td>0.0</td>\n",
       "      <td>0.0</td>\n",
       "      <td>2.0</td>\n",
       "      <td>0.0</td>\n",
       "      <td>0.0</td>\n",
       "      <td>0.0</td>\n",
       "      <td>0.0</td>\n",
       "      <td>0.0</td>\n",
       "      <td>0.0</td>\n",
       "      <td>0.0</td>\n",
       "      <td>...</td>\n",
       "      <td>0.0</td>\n",
       "      <td>0.0</td>\n",
       "      <td>0.0</td>\n",
       "      <td>0.0</td>\n",
       "      <td>0.0</td>\n",
       "      <td>5.0</td>\n",
       "      <td>10.0</td>\n",
       "      <td>0.0</td>\n",
       "      <td>0.0</td>\n",
       "      <td>0.0</td>\n",
       "    </tr>\n",
       "    <tr>\n",
       "      <th>2</th>\n",
       "      <td>0.0</td>\n",
       "      <td>0.0</td>\n",
       "      <td>0.0</td>\n",
       "      <td>0.0</td>\n",
       "      <td>0.0</td>\n",
       "      <td>0.0</td>\n",
       "      <td>0.0</td>\n",
       "      <td>0.0</td>\n",
       "      <td>9.0</td>\n",
       "      <td>0.0</td>\n",
       "      <td>...</td>\n",
       "      <td>6.0</td>\n",
       "      <td>0.0</td>\n",
       "      <td>7.0</td>\n",
       "      <td>0.0</td>\n",
       "      <td>0.0</td>\n",
       "      <td>0.0</td>\n",
       "      <td>0.0</td>\n",
       "      <td>7.0</td>\n",
       "      <td>6.0</td>\n",
       "      <td>0.0</td>\n",
       "    </tr>\n",
       "    <tr>\n",
       "      <th>3</th>\n",
       "      <td>10.0</td>\n",
       "      <td>10.0</td>\n",
       "      <td>0.0</td>\n",
       "      <td>0.0</td>\n",
       "      <td>9.0</td>\n",
       "      <td>0.0</td>\n",
       "      <td>0.0</td>\n",
       "      <td>10.0</td>\n",
       "      <td>0.0</td>\n",
       "      <td>10.0</td>\n",
       "      <td>...</td>\n",
       "      <td>0.0</td>\n",
       "      <td>0.0</td>\n",
       "      <td>0.0</td>\n",
       "      <td>0.0</td>\n",
       "      <td>4.0</td>\n",
       "      <td>0.0</td>\n",
       "      <td>0.0</td>\n",
       "      <td>0.0</td>\n",
       "      <td>0.0</td>\n",
       "      <td>0.0</td>\n",
       "    </tr>\n",
       "    <tr>\n",
       "      <th>4</th>\n",
       "      <td>0.0</td>\n",
       "      <td>7.0</td>\n",
       "      <td>0.0</td>\n",
       "      <td>0.0</td>\n",
       "      <td>9.0</td>\n",
       "      <td>0.0</td>\n",
       "      <td>0.0</td>\n",
       "      <td>0.0</td>\n",
       "      <td>0.0</td>\n",
       "      <td>9.0</td>\n",
       "      <td>...</td>\n",
       "      <td>8.0</td>\n",
       "      <td>0.0</td>\n",
       "      <td>8.0</td>\n",
       "      <td>6.0</td>\n",
       "      <td>8.0</td>\n",
       "      <td>0.0</td>\n",
       "      <td>10.0</td>\n",
       "      <td>5.0</td>\n",
       "      <td>8.0</td>\n",
       "      <td>0.0</td>\n",
       "    </tr>\n",
       "  </tbody>\n",
       "</table>\n",
       "<p>5 rows × 99 columns</p>\n",
       "</div>"
      ],
      "text/plain": [
       "user_id        0     1    6    8    10   12   16    24   25    26   ...  245  \\\n",
       "cellphone_id                                                        ...        \n",
       "0              0.0   0.0  0.0  5.0  0.0  0.0  1.0   0.0  0.0   0.0  ...  0.0   \n",
       "1              0.0   0.0  2.0  0.0  0.0  0.0  0.0   0.0  0.0   0.0  ...  0.0   \n",
       "2              0.0   0.0  0.0  0.0  0.0  0.0  0.0   0.0  9.0   0.0  ...  6.0   \n",
       "3             10.0  10.0  0.0  0.0  9.0  0.0  0.0  10.0  0.0  10.0  ...  0.0   \n",
       "4              0.0   7.0  0.0  0.0  9.0  0.0  0.0   0.0  0.0   9.0  ...  8.0   \n",
       "\n",
       "user_id       246  251  252  253  254   255  256  257  258  \n",
       "cellphone_id                                                \n",
       "0             8.0  0.0  0.0  8.0  0.0   0.0  0.0  7.0  0.0  \n",
       "1             0.0  0.0  0.0  0.0  5.0  10.0  0.0  0.0  0.0  \n",
       "2             0.0  7.0  0.0  0.0  0.0   0.0  7.0  6.0  0.0  \n",
       "3             0.0  0.0  0.0  4.0  0.0   0.0  0.0  0.0  0.0  \n",
       "4             0.0  8.0  6.0  8.0  0.0  10.0  5.0  8.0  0.0  \n",
       "\n",
       "[5 rows x 99 columns]"
      ]
     },
     "execution_count": 71,
     "metadata": {},
     "output_type": "execute_result"
    }
   ],
   "source": [
    "# пропуски NaN нужно преобразовать в нули\n",
    "# параметр inplace = True опять же поможет сохранить результат\n",
    "user_item_matrix.fillna(0, inplace = True)\n",
    "user_item_matrix.head()"
   ]
  },
  {
   "cell_type": "code",
   "execution_count": 72,
   "metadata": {
    "colab": {
     "base_uri": "https://localhost:8080/"
    },
    "id": "g05HQqOoA69G",
    "outputId": "5de70fb4-0af0-40b0-fb00-c60afd991895"
   },
   "outputs": [
    {
     "data": {
      "text/plain": [
       "(33, 99)"
      ]
     },
     "execution_count": 72,
     "metadata": {},
     "output_type": "execute_result"
    }
   ],
   "source": [
    "# посмотрим на размерность матрицы \"пользователи х фильмы\"\n",
    "user_item_matrix.shape"
   ]
  },
  {
   "cell_type": "markdown",
   "metadata": {
    "id": "4lKSVfmY4DDY"
   },
   "source": [
    "Теперь давайте уберем неактивных пользователей и фильмы с небольшим количеством оценок"
   ]
  },
  {
   "cell_type": "code",
   "execution_count": 59,
   "metadata": {
    "id": "M0wBp3zZjPo0"
   },
   "outputs": [],
   "source": [
    "# вначале сгруппируем (объединим) пользователей, возьмем только столбец rating\n",
    "# и посчитаем, сколько было оценок у каждого пользователя\n",
    "users_votes = ratings.groupby('user_id')['rating'].agg('count')\n",
    "\n",
    "# сделаем то же самое, только для фильма\n",
    "movies_votes = ratings.groupby('cellphone_id')['rating'].agg('count')"
   ]
  },
  {
   "cell_type": "code",
   "execution_count": 60,
   "metadata": {
    "id": "OLJVQiUCDBrB"
   },
   "outputs": [],
   "source": [
    "# теперь создадим фильтр (mask)\n",
    "user_mask = users_votes[users_votes > 50].index\n",
    "movie_mask = movies_votes[movies_votes > 1].index"
   ]
  },
  {
   "cell_type": "code",
   "execution_count": 61,
   "metadata": {
    "id": "UBjhxj7dtirz"
   },
   "outputs": [],
   "source": [
    "# применим фильтры и отберем фильмы с достаточным количеством оценок\n",
    "user_item_matrix = user_item_matrix.loc[movie_mask,:]\n",
    "\n",
    "# а также активных пользователей\n",
    "user_item_matrix = user_item_matrix.loc[:,user_mask]"
   ]
  },
  {
   "cell_type": "code",
   "execution_count": 73,
   "metadata": {
    "colab": {
     "base_uri": "https://localhost:8080/"
    },
    "id": "reRO7KxsD_XR",
    "outputId": "95a6759f-4e11-402c-c107-0ba841a21584"
   },
   "outputs": [
    {
     "data": {
      "text/plain": [
       "(33, 99)"
      ]
     },
     "execution_count": 73,
     "metadata": {},
     "output_type": "execute_result"
    }
   ],
   "source": [
    "# посмотрим сколько пользователей и фильмов осталось\n",
    "user_item_matrix.shape"
   ]
  },
  {
   "cell_type": "markdown",
   "metadata": {
    "id": "8SQnFmZEEO9p"
   },
   "source": [
    "Мы почти завершили первый этап. В частности, осталось преобразовать нашу разреженную матрицу (sparce matrix) в сжатое хранение строкой (сompressed sparse row) с помощью функции csr_matrix библиотеки Scipy."
   ]
  },
  {
   "cell_type": "code",
   "execution_count": 74,
   "metadata": {
    "colab": {
     "base_uri": "https://localhost:8080/"
    },
    "id": "k8qhACQstPuu",
    "outputId": "38b7c86c-e9e2-4d8a-b7b3-b36167a585c4"
   },
   "outputs": [
    {
     "name": "stdout",
     "output_type": "stream",
     "text": [
      "  (0, 3)\t5.0\n",
      "  (1, 2)\t2.0\n"
     ]
    }
   ],
   "source": [
    "# преобразуем разреженную матрицу в формат csr\n",
    "# метод values передаст функции csr_matrix только значения датафрейма\n",
    "csr_data = csr_matrix(user_item_matrix.values)\n",
    "\n",
    "# посмотрим на первые записи\n",
    "# сопоставьте эти значения с исходной таблицей выше\n",
    "print(csr_data[:2,:5])"
   ]
  },
  {
   "cell_type": "code",
   "execution_count": 75,
   "metadata": {
    "colab": {
     "base_uri": "https://localhost:8080/",
     "height": 235
    },
    "id": "0UIEVAgUjZzr",
    "outputId": "86b475b8-9a42-4370-b249-2dab20dfc424"
   },
   "outputs": [
    {
     "data": {
      "text/html": [
       "<div>\n",
       "<style scoped>\n",
       "    .dataframe tbody tr th:only-of-type {\n",
       "        vertical-align: middle;\n",
       "    }\n",
       "\n",
       "    .dataframe tbody tr th {\n",
       "        vertical-align: top;\n",
       "    }\n",
       "\n",
       "    .dataframe thead th {\n",
       "        text-align: right;\n",
       "    }\n",
       "</style>\n",
       "<table border=\"1\" class=\"dataframe\">\n",
       "  <thead>\n",
       "    <tr style=\"text-align: right;\">\n",
       "      <th></th>\n",
       "      <th>cellphone_id</th>\n",
       "      <th>0</th>\n",
       "      <th>1</th>\n",
       "      <th>6</th>\n",
       "      <th>8</th>\n",
       "      <th>10</th>\n",
       "      <th>12</th>\n",
       "      <th>16</th>\n",
       "      <th>24</th>\n",
       "      <th>25</th>\n",
       "      <th>...</th>\n",
       "      <th>245</th>\n",
       "      <th>246</th>\n",
       "      <th>251</th>\n",
       "      <th>252</th>\n",
       "      <th>253</th>\n",
       "      <th>254</th>\n",
       "      <th>255</th>\n",
       "      <th>256</th>\n",
       "      <th>257</th>\n",
       "      <th>258</th>\n",
       "    </tr>\n",
       "  </thead>\n",
       "  <tbody>\n",
       "    <tr>\n",
       "      <th>0</th>\n",
       "      <td>0</td>\n",
       "      <td>0.0</td>\n",
       "      <td>0.0</td>\n",
       "      <td>0.0</td>\n",
       "      <td>5.0</td>\n",
       "      <td>0.0</td>\n",
       "      <td>0.0</td>\n",
       "      <td>1.0</td>\n",
       "      <td>0.0</td>\n",
       "      <td>0.0</td>\n",
       "      <td>...</td>\n",
       "      <td>0.0</td>\n",
       "      <td>8.0</td>\n",
       "      <td>0.0</td>\n",
       "      <td>0.0</td>\n",
       "      <td>8.0</td>\n",
       "      <td>0.0</td>\n",
       "      <td>0.0</td>\n",
       "      <td>0.0</td>\n",
       "      <td>7.0</td>\n",
       "      <td>0.0</td>\n",
       "    </tr>\n",
       "    <tr>\n",
       "      <th>1</th>\n",
       "      <td>1</td>\n",
       "      <td>0.0</td>\n",
       "      <td>0.0</td>\n",
       "      <td>2.0</td>\n",
       "      <td>0.0</td>\n",
       "      <td>0.0</td>\n",
       "      <td>0.0</td>\n",
       "      <td>0.0</td>\n",
       "      <td>0.0</td>\n",
       "      <td>0.0</td>\n",
       "      <td>...</td>\n",
       "      <td>0.0</td>\n",
       "      <td>0.0</td>\n",
       "      <td>0.0</td>\n",
       "      <td>0.0</td>\n",
       "      <td>0.0</td>\n",
       "      <td>5.0</td>\n",
       "      <td>10.0</td>\n",
       "      <td>0.0</td>\n",
       "      <td>0.0</td>\n",
       "      <td>0.0</td>\n",
       "    </tr>\n",
       "    <tr>\n",
       "      <th>2</th>\n",
       "      <td>2</td>\n",
       "      <td>0.0</td>\n",
       "      <td>0.0</td>\n",
       "      <td>0.0</td>\n",
       "      <td>0.0</td>\n",
       "      <td>0.0</td>\n",
       "      <td>0.0</td>\n",
       "      <td>0.0</td>\n",
       "      <td>0.0</td>\n",
       "      <td>9.0</td>\n",
       "      <td>...</td>\n",
       "      <td>6.0</td>\n",
       "      <td>0.0</td>\n",
       "      <td>7.0</td>\n",
       "      <td>0.0</td>\n",
       "      <td>0.0</td>\n",
       "      <td>0.0</td>\n",
       "      <td>0.0</td>\n",
       "      <td>7.0</td>\n",
       "      <td>6.0</td>\n",
       "      <td>0.0</td>\n",
       "    </tr>\n",
       "    <tr>\n",
       "      <th>3</th>\n",
       "      <td>3</td>\n",
       "      <td>10.0</td>\n",
       "      <td>10.0</td>\n",
       "      <td>0.0</td>\n",
       "      <td>0.0</td>\n",
       "      <td>9.0</td>\n",
       "      <td>0.0</td>\n",
       "      <td>0.0</td>\n",
       "      <td>10.0</td>\n",
       "      <td>0.0</td>\n",
       "      <td>...</td>\n",
       "      <td>0.0</td>\n",
       "      <td>0.0</td>\n",
       "      <td>0.0</td>\n",
       "      <td>0.0</td>\n",
       "      <td>4.0</td>\n",
       "      <td>0.0</td>\n",
       "      <td>0.0</td>\n",
       "      <td>0.0</td>\n",
       "      <td>0.0</td>\n",
       "      <td>0.0</td>\n",
       "    </tr>\n",
       "    <tr>\n",
       "      <th>4</th>\n",
       "      <td>4</td>\n",
       "      <td>0.0</td>\n",
       "      <td>7.0</td>\n",
       "      <td>0.0</td>\n",
       "      <td>0.0</td>\n",
       "      <td>9.0</td>\n",
       "      <td>0.0</td>\n",
       "      <td>0.0</td>\n",
       "      <td>0.0</td>\n",
       "      <td>0.0</td>\n",
       "      <td>...</td>\n",
       "      <td>8.0</td>\n",
       "      <td>0.0</td>\n",
       "      <td>8.0</td>\n",
       "      <td>6.0</td>\n",
       "      <td>8.0</td>\n",
       "      <td>0.0</td>\n",
       "      <td>10.0</td>\n",
       "      <td>5.0</td>\n",
       "      <td>8.0</td>\n",
       "      <td>0.0</td>\n",
       "    </tr>\n",
       "  </tbody>\n",
       "</table>\n",
       "<p>5 rows × 100 columns</p>\n",
       "</div>"
      ],
      "text/plain": [
       "   cellphone_id     0     1    6    8   10   12   16    24   25  ...  245  \\\n",
       "0             0   0.0   0.0  0.0  5.0  0.0  0.0  1.0   0.0  0.0  ...  0.0   \n",
       "1             1   0.0   0.0  2.0  0.0  0.0  0.0  0.0   0.0  0.0  ...  0.0   \n",
       "2             2   0.0   0.0  0.0  0.0  0.0  0.0  0.0   0.0  9.0  ...  6.0   \n",
       "3             3  10.0  10.0  0.0  0.0  9.0  0.0  0.0  10.0  0.0  ...  0.0   \n",
       "4             4   0.0   7.0  0.0  0.0  9.0  0.0  0.0   0.0  0.0  ...  8.0   \n",
       "\n",
       "   246  251  252  253  254   255  256  257  258  \n",
       "0  8.0  0.0  0.0  8.0  0.0   0.0  0.0  7.0  0.0  \n",
       "1  0.0  0.0  0.0  0.0  5.0  10.0  0.0  0.0  0.0  \n",
       "2  0.0  7.0  0.0  0.0  0.0   0.0  7.0  6.0  0.0  \n",
       "3  0.0  0.0  0.0  4.0  0.0   0.0  0.0  0.0  0.0  \n",
       "4  0.0  8.0  6.0  8.0  0.0  10.0  5.0  8.0  0.0  \n",
       "\n",
       "[5 rows x 100 columns]"
      ]
     },
     "execution_count": 75,
     "metadata": {},
     "output_type": "execute_result"
    }
   ],
   "source": [
    "# остается только сбросить индекс с помощью reset_index()\n",
    "# это необходимо для удобства поиска фильма по индексу\n",
    "user_item_matrix = user_item_matrix.rename_axis(None, axis = 1).reset_index()\n",
    "user_item_matrix.head()"
   ]
  },
  {
   "cell_type": "markdown",
   "metadata": {
    "id": "EPB6641Qsv2d"
   },
   "source": [
    "### Этап 2. Обучение модели"
   ]
  },
  {
   "cell_type": "code",
   "execution_count": 76,
   "metadata": {
    "colab": {
     "base_uri": "https://localhost:8080/"
    },
    "id": "naUXEihLjqIU",
    "outputId": "e77676b6-539f-4697-9f82-6596998af885"
   },
   "outputs": [
    {
     "data": {
      "text/html": [
       "<style>#sk-container-id-2 {color: black;}#sk-container-id-2 pre{padding: 0;}#sk-container-id-2 div.sk-toggleable {background-color: white;}#sk-container-id-2 label.sk-toggleable__label {cursor: pointer;display: block;width: 100%;margin-bottom: 0;padding: 0.3em;box-sizing: border-box;text-align: center;}#sk-container-id-2 label.sk-toggleable__label-arrow:before {content: \"▸\";float: left;margin-right: 0.25em;color: #696969;}#sk-container-id-2 label.sk-toggleable__label-arrow:hover:before {color: black;}#sk-container-id-2 div.sk-estimator:hover label.sk-toggleable__label-arrow:before {color: black;}#sk-container-id-2 div.sk-toggleable__content {max-height: 0;max-width: 0;overflow: hidden;text-align: left;background-color: #f0f8ff;}#sk-container-id-2 div.sk-toggleable__content pre {margin: 0.2em;color: black;border-radius: 0.25em;background-color: #f0f8ff;}#sk-container-id-2 input.sk-toggleable__control:checked~div.sk-toggleable__content {max-height: 200px;max-width: 100%;overflow: auto;}#sk-container-id-2 input.sk-toggleable__control:checked~label.sk-toggleable__label-arrow:before {content: \"▾\";}#sk-container-id-2 div.sk-estimator input.sk-toggleable__control:checked~label.sk-toggleable__label {background-color: #d4ebff;}#sk-container-id-2 div.sk-label input.sk-toggleable__control:checked~label.sk-toggleable__label {background-color: #d4ebff;}#sk-container-id-2 input.sk-hidden--visually {border: 0;clip: rect(1px 1px 1px 1px);clip: rect(1px, 1px, 1px, 1px);height: 1px;margin: -1px;overflow: hidden;padding: 0;position: absolute;width: 1px;}#sk-container-id-2 div.sk-estimator {font-family: monospace;background-color: #f0f8ff;border: 1px dotted black;border-radius: 0.25em;box-sizing: border-box;margin-bottom: 0.5em;}#sk-container-id-2 div.sk-estimator:hover {background-color: #d4ebff;}#sk-container-id-2 div.sk-parallel-item::after {content: \"\";width: 100%;border-bottom: 1px solid gray;flex-grow: 1;}#sk-container-id-2 div.sk-label:hover label.sk-toggleable__label {background-color: #d4ebff;}#sk-container-id-2 div.sk-serial::before {content: \"\";position: absolute;border-left: 1px solid gray;box-sizing: border-box;top: 0;bottom: 0;left: 50%;z-index: 0;}#sk-container-id-2 div.sk-serial {display: flex;flex-direction: column;align-items: center;background-color: white;padding-right: 0.2em;padding-left: 0.2em;position: relative;}#sk-container-id-2 div.sk-item {position: relative;z-index: 1;}#sk-container-id-2 div.sk-parallel {display: flex;align-items: stretch;justify-content: center;background-color: white;position: relative;}#sk-container-id-2 div.sk-item::before, #sk-container-id-2 div.sk-parallel-item::before {content: \"\";position: absolute;border-left: 1px solid gray;box-sizing: border-box;top: 0;bottom: 0;left: 50%;z-index: -1;}#sk-container-id-2 div.sk-parallel-item {display: flex;flex-direction: column;z-index: 1;position: relative;background-color: white;}#sk-container-id-2 div.sk-parallel-item:first-child::after {align-self: flex-end;width: 50%;}#sk-container-id-2 div.sk-parallel-item:last-child::after {align-self: flex-start;width: 50%;}#sk-container-id-2 div.sk-parallel-item:only-child::after {width: 0;}#sk-container-id-2 div.sk-dashed-wrapped {border: 1px dashed gray;margin: 0 0.4em 0.5em 0.4em;box-sizing: border-box;padding-bottom: 0.4em;background-color: white;}#sk-container-id-2 div.sk-label label {font-family: monospace;font-weight: bold;display: inline-block;line-height: 1.2em;}#sk-container-id-2 div.sk-label-container {text-align: center;}#sk-container-id-2 div.sk-container {/* jupyter's `normalize.less` sets `[hidden] { display: none; }` but bootstrap.min.css set `[hidden] { display: none !important; }` so we also need the `!important` here to be able to override the default hidden behavior on the sphinx rendered scikit-learn.org. See: https://github.com/scikit-learn/scikit-learn/issues/21755 */display: inline-block !important;position: relative;}#sk-container-id-2 div.sk-text-repr-fallback {display: none;}</style><div id=\"sk-container-id-2\" class=\"sk-top-container\"><div class=\"sk-text-repr-fallback\"><pre>NearestNeighbors(algorithm=&#x27;brute&#x27;, metric=&#x27;cosine&#x27;, n_jobs=-1, n_neighbors=20)</pre><b>In a Jupyter environment, please rerun this cell to show the HTML representation or trust the notebook. <br />On GitHub, the HTML representation is unable to render, please try loading this page with nbviewer.org.</b></div><div class=\"sk-container\" hidden><div class=\"sk-item\"><div class=\"sk-estimator sk-toggleable\"><input class=\"sk-toggleable__control sk-hidden--visually\" id=\"sk-estimator-id-2\" type=\"checkbox\" checked><label for=\"sk-estimator-id-2\" class=\"sk-toggleable__label sk-toggleable__label-arrow\">NearestNeighbors</label><div class=\"sk-toggleable__content\"><pre>NearestNeighbors(algorithm=&#x27;brute&#x27;, metric=&#x27;cosine&#x27;, n_jobs=-1, n_neighbors=20)</pre></div></div></div></div></div>"
      ],
      "text/plain": [
       "NearestNeighbors(algorithm='brute', metric='cosine', n_jobs=-1, n_neighbors=20)"
      ]
     },
     "execution_count": 76,
     "metadata": {},
     "output_type": "execute_result"
    }
   ],
   "source": [
    "# воспользуемся классом NearestNeighbors для поиска расстояний\n",
    "knn = NearestNeighbors(metric = 'cosine', algorithm = 'brute', n_neighbors = 20, n_jobs = -1)\n",
    "\n",
    "# обучим модель\n",
    "knn.fit(csr_data)"
   ]
  },
  {
   "cell_type": "markdown",
   "metadata": {
    "id": "6QK0znBKs3H6"
   },
   "source": [
    "### Этап 3. Составление рекомендаций"
   ]
  },
  {
   "cell_type": "markdown",
   "metadata": {
    "id": "Q2siCT-76qNu"
   },
   "source": [
    "Зададим изначальные параметры поиска"
   ]
  },
  {
   "cell_type": "code",
   "execution_count": 77,
   "metadata": {
    "id": "BONV-7bd59Td"
   },
   "outputs": [],
   "source": [
    "# ждя начала определимся, сколько рекомендаций мы хотим получить\n",
    "recommendations = 10\n",
    "\n",
    "# и на основе какого фильма\n",
    "search_word = 'OnePlus'"
   ]
  },
  {
   "cell_type": "markdown",
   "metadata": {
    "id": "8Op-Fwwn6tJw"
   },
   "source": [
    "Найдем индекс фильма в матрице предпочтений"
   ]
  },
  {
   "cell_type": "code",
   "execution_count": 78,
   "metadata": {
    "colab": {
     "base_uri": "https://localhost:8080/",
     "height": 143
    },
    "id": "hHhqJMIMuHf3",
    "outputId": "d76e9f11-f0be-4550-8443-18a95dadde6f"
   },
   "outputs": [
    {
     "data": {
      "text/html": [
       "<div>\n",
       "<style scoped>\n",
       "    .dataframe tbody tr th:only-of-type {\n",
       "        vertical-align: middle;\n",
       "    }\n",
       "\n",
       "    .dataframe tbody tr th {\n",
       "        vertical-align: top;\n",
       "    }\n",
       "\n",
       "    .dataframe thead th {\n",
       "        text-align: right;\n",
       "    }\n",
       "</style>\n",
       "<table border=\"1\" class=\"dataframe\">\n",
       "  <thead>\n",
       "    <tr style=\"text-align: right;\">\n",
       "      <th></th>\n",
       "      <th>cellphone_id</th>\n",
       "      <th>brand</th>\n",
       "      <th>model</th>\n",
       "      <th>operating system</th>\n",
       "      <th>internal memory</th>\n",
       "    </tr>\n",
       "  </thead>\n",
       "  <tbody>\n",
       "    <tr>\n",
       "      <th>18</th>\n",
       "      <td>18</td>\n",
       "      <td>OnePlus</td>\n",
       "      <td>Nord N20</td>\n",
       "      <td>Android</td>\n",
       "      <td>128</td>\n",
       "    </tr>\n",
       "    <tr>\n",
       "      <th>19</th>\n",
       "      <td>19</td>\n",
       "      <td>OnePlus</td>\n",
       "      <td>Nord 2T</td>\n",
       "      <td>Android</td>\n",
       "      <td>128</td>\n",
       "    </tr>\n",
       "    <tr>\n",
       "      <th>20</th>\n",
       "      <td>20</td>\n",
       "      <td>OnePlus</td>\n",
       "      <td>10 Pro</td>\n",
       "      <td>Android</td>\n",
       "      <td>128</td>\n",
       "    </tr>\n",
       "    <tr>\n",
       "      <th>21</th>\n",
       "      <td>21</td>\n",
       "      <td>OnePlus</td>\n",
       "      <td>10T</td>\n",
       "      <td>Android</td>\n",
       "      <td>128</td>\n",
       "    </tr>\n",
       "  </tbody>\n",
       "</table>\n",
       "</div>"
      ],
      "text/plain": [
       "    cellphone_id    brand     model operating system  internal memory\n",
       "18            18  OnePlus  Nord N20          Android              128\n",
       "19            19  OnePlus   Nord 2T          Android              128\n",
       "20            20  OnePlus    10 Pro          Android              128\n",
       "21            21  OnePlus       10T          Android              128"
      ]
     },
     "execution_count": 78,
     "metadata": {},
     "output_type": "execute_result"
    }
   ],
   "source": [
    "# для начала найдем фильм в заголовках датафрейма movies\n",
    "movie_search = movies[movies['brand'].str.contains(search_word)]\n",
    "movie_search"
   ]
  },
  {
   "cell_type": "code",
   "execution_count": null,
   "metadata": {
    "colab": {
     "base_uri": "https://localhost:8080/"
    },
    "id": "p9TnLRei7neQ",
    "outputId": "1631844c-a4b0-48ba-d6dc-70d7a3536500"
   },
   "outputs": [],
   "source": [
    "# вариантов может быть несколько, для простоты всегда будем брать первый вариант\n",
    "# через iloc[0] мы берем первую строку столбца ['movieId']\n",
    "movie_id = movie_search.iloc[0]['movieId']\n",
    "\n",
    "# далее по индексу фильма в датасете movies найдем соответствующий индекс\n",
    "# в матрице предпочтений\n",
    "movie_id = user_item_matrix[user_item_matrix['movieId'] == movie_id].index[0]\n",
    "movie_id"
   ]
  },
  {
   "cell_type": "markdown",
   "metadata": {
    "id": "EuezUgio9tlk"
   },
   "source": [
    "Находим схожие фильмы"
   ]
  },
  {
   "cell_type": "code",
   "execution_count": null,
   "metadata": {
    "id": "sEGhP6mij3Xz"
   },
   "outputs": [],
   "source": [
    "# теперь нужно найти индексы и расстояния фильмов, которые похожи на наш запрос\n",
    "# воспользуемся методом kneighbors()\n",
    "distances, indices = knn.kneighbors(csr_data[movie_id], n_neighbors = recommendations + 1)"
   ]
  },
  {
   "cell_type": "code",
   "execution_count": null,
   "metadata": {
    "colab": {
     "base_uri": "https://localhost:8080/"
    },
    "id": "lp0QXxSrkUXi",
    "outputId": "297c438e-3165-418d-cf64-0c05a183f9de"
   },
   "outputs": [],
   "source": [
    "# индексы рекомендованных фильмов\n",
    "indices"
   ]
  },
  {
   "cell_type": "code",
   "execution_count": null,
   "metadata": {
    "colab": {
     "base_uri": "https://localhost:8080/"
    },
    "id": "J0joaIOekQSJ",
    "outputId": "b8eac691-9800-4caf-d053-2a52b34adbae"
   },
   "outputs": [],
   "source": [
    "# расстояния до них\n",
    "distances"
   ]
  },
  {
   "cell_type": "code",
   "execution_count": null,
   "metadata": {
    "colab": {
     "base_uri": "https://localhost:8080/"
    },
    "id": "HLB2qADqSrOs",
    "outputId": "9d1b8f7c-32c7-440c-bb2f-ebe3db701872"
   },
   "outputs": [],
   "source": [
    "# уберем лишние измерения через squeeze() и преобразуем массивы в списки с помощью tolist()\n",
    "indices_list = indices.squeeze().tolist()\n",
    "distances_list = distances.squeeze().tolist()\n",
    "\n",
    "# далее с помощью функций zip и list преобразуем наши списки\n",
    "indices_distances = list(zip(indices_list, distances_list))\n",
    "\n",
    "# в набор кортежей (tuple)\n",
    "print(type(indices_distances[0]))\n",
    "\n",
    "# и посмотрим на первые три пары/кортежа\n",
    "print(indices_distances[:3])"
   ]
  },
  {
   "cell_type": "code",
   "execution_count": null,
   "metadata": {
    "colab": {
     "base_uri": "https://localhost:8080/"
    },
    "id": "XXQ8uBFUwMO1",
    "outputId": "f3883f86-9d27-4b8a-c152-72a5cc6b6094"
   },
   "outputs": [],
   "source": [
    "# остается отсортировать список по расстояниям через key = lambda x: x[1] (то есть по второму элементу)\n",
    "# в возрастающем порядке reverse = False\n",
    "indices_distances_sorted = sorted(indices_distances, key = lambda x: x[1], reverse = False)\n",
    "\n",
    "# и убрать первый элемент с индексом 901 (потому что это и есть \"Матрица\")\n",
    "indices_distances_sorted = indices_distances_sorted[1:]\n",
    "indices_distances_sorted"
   ]
  },
  {
   "cell_type": "markdown",
   "metadata": {
    "id": "5K_X6_5MWm2t"
   },
   "source": [
    "Остается найти какие фильмы соответствуют найденным нами индексам"
   ]
  },
  {
   "cell_type": "code",
   "execution_count": null,
   "metadata": {
    "id": "6zvSoaSekCPc"
   },
   "outputs": [],
   "source": [
    "# создаем пустой список, в который будем помещать название фильма и расстояние до него\n",
    "recom_list = []\n",
    "\n",
    "# теперь в цикле будем поочередно проходить по кортежам\n",
    "for ind_dist in indices_distances_sorted:\n",
    "\n",
    "    # искать movieId в матрице предпочтений\n",
    "    matrix_movie_id = user_item_matrix.iloc[ind_dist[0]]['movieId']\n",
    "\n",
    "    # выяснять индекс этого фильма в датафрейме movies\n",
    "    id = movies[movies['movieId'] == matrix_movie_id].index\n",
    "\n",
    "    # брать название фильма и расстояние до него\n",
    "    title = movies.iloc[id]['title'].values[0]\n",
    "    dist = ind_dist[1]\n",
    "\n",
    "    # помещать каждую пару в питоновский словарь\n",
    "    # который, в свою очередь, станет элементом списка recom_list\n",
    "    recom_list.append({'Title' : title, 'Distance' : dist})"
   ]
  },
  {
   "cell_type": "code",
   "execution_count": null,
   "metadata": {
    "colab": {
     "base_uri": "https://localhost:8080/"
    },
    "id": "dUKxjG7sZBQp",
    "outputId": "2201b339-d7bb-45fe-945c-e1b9bbf68a3e"
   },
   "outputs": [],
   "source": [
    "# посмотрим на первый элемент\n",
    "recom_list[0]"
   ]
  },
  {
   "cell_type": "code",
   "execution_count": null,
   "metadata": {
    "colab": {
     "base_uri": "https://localhost:8080/",
     "height": 363
    },
    "id": "l1YaC-nDuZaz",
    "outputId": "353531eb-2629-455f-b31d-266aa88757d4"
   },
   "outputs": [],
   "source": [
    "# остается преобразовать наш список в датафрейм\n",
    "# индекс будем начинать с 1, как и положено рейтингу\n",
    "recom_df = pd.DataFrame(recom_list, index = range(1, recommendations + 1))\n",
    "recom_df"
   ]
  },
  {
   "cell_type": "markdown",
   "metadata": {
    "id": "y_RsrDRrUzEf"
   },
   "source": [
    "### Ответы на вопросы"
   ]
  },
  {
   "cell_type": "markdown",
   "metadata": {
    "id": "dP7iljMrVHnf"
   },
   "source": [
    "**Вопрос**."
   ]
  },
  {
   "cell_type": "code",
   "execution_count": null,
   "metadata": {
    "id": "2yMzjzYHgS1m"
   },
   "outputs": [],
   "source": [
    "import numpy as np\n",
    "import matplotlib.pyplot as plt"
   ]
  },
  {
   "cell_type": "markdown",
   "metadata": {
    "id": "_VAANs8ZVYaX"
   },
   "source": [
    "Векторы на графике"
   ]
  },
  {
   "cell_type": "code",
   "execution_count": null,
   "metadata": {
    "id": "_K759b4BfQfx"
   },
   "outputs": [],
   "source": [
    "# создадим два вектора с координатами [10, 10] и [1, 1]\n",
    "x = np.array([10, 10])\n",
    "y = np.array([1, 1])"
   ]
  },
  {
   "cell_type": "code",
   "execution_count": null,
   "metadata": {
    "colab": {
     "base_uri": "https://localhost:8080/",
     "height": 374
    },
    "id": "bPEGMxmSgPbN",
    "outputId": "6eaeb89c-60e3-49ea-ba3b-46375c163b27"
   },
   "outputs": [],
   "source": [
    "# зададим размер фигуры (контейнера, в который помещаются графики)\n",
    "plt.figure(figsize = (10, 6))\n",
    "\n",
    "# создадим объект графика внутри этой фигуры\n",
    "ax = plt.axes()\n",
    "\n",
    "# зададим диапазон осей x и y\n",
    "plt.xlim([0, 11])\n",
    "plt.ylim([0, 11])\n",
    "plt.grid()\n",
    "\n",
    "# нашими \"подграфиками\" будут два вектора в форме стрелок\n",
    "ax.arrow(0, 0, x[0], x[1], width = 0.03, head_width = 0.2, head_length = 0.2, fc = 'g', ec = 'g')\n",
    "ax.arrow(0, 0, y[0], y[1], width = 0.03, head_width = 0.2, head_length = 0.2, fc = 'b', ec = 'b')\n",
    "\n",
    "plt.show()"
   ]
  },
  {
   "cell_type": "markdown",
   "metadata": {
    "id": "MY_el63iVdEk"
   },
   "source": [
    "Расчет косинусного сходства"
   ]
  },
  {
   "cell_type": "code",
   "execution_count": null,
   "metadata": {
    "id": "CXKpYklCooUS"
   },
   "outputs": [],
   "source": [
    "# напишем функцию для расчета косинусного сходства\n",
    "def similar(x, y):\n",
    "\n",
    "    # рассчитаем длины векторов\n",
    "    xLen = np.linalg.norm(x)\n",
    "    yLen = np.linalg.norm(y)\n",
    "\n",
    "    # подставим их в формулу косинусного сходства\n",
    "    result = np.dot(x, y)/(xLen * yLen)\n",
    "\n",
    "    # выведем результат\n",
    "    return result"
   ]
  },
  {
   "cell_type": "code",
   "execution_count": null,
   "metadata": {
    "colab": {
     "base_uri": "https://localhost:8080/"
    },
    "id": "YFlu7ZPJorOg",
    "outputId": "35b95ca0-9bae-4879-842c-8a606d5431bd"
   },
   "outputs": [],
   "source": [
    "# ожидаемо косунус угла будет равен единице\n",
    "round(similar(x, y), 3)"
   ]
  },
  {
   "cell_type": "markdown",
   "metadata": {
    "id": "5uybqKzLVh65"
   },
   "source": [
    "Item-based система"
   ]
  },
  {
   "cell_type": "code",
   "execution_count": null,
   "metadata": {
    "colab": {
     "base_uri": "https://localhost:8080/"
    },
    "id": "Ttl9y7X2KoXa",
    "outputId": "4f7fd23c-59db-44ae-9d08-aa894795e162"
   },
   "outputs": [],
   "source": [
    "# создадим массив Numpy с оценками\n",
    "films = np.array(\n",
    "    [\n",
    "     [1, 3, 2, 6, 2, 1, 0],\n",
    "     [0, 2, 0, 3, 0, 6, 2],\n",
    "     [1, 1, 1, 1, 1, 1, 1],\n",
    "     [2, 4, 1, 3, 9, 2, 1],\n",
    "     [10, 10, 10, 10, 10, 10, 10]\n",
    "     ]\n",
    ")\n",
    "\n",
    "# строки это фильмы, столбцы - пользователи\n",
    "films"
   ]
  },
  {
   "cell_type": "code",
   "execution_count": null,
   "metadata": {
    "id": "_fmpiVMul3ZL"
   },
   "outputs": [],
   "source": [
    "# предположим, вышел новый фильм, и все пользователи поставили ему рейтинг 10\n",
    "new_film = np.array([10, 10, 10, 10, 10, 10, 10])"
   ]
  },
  {
   "cell_type": "code",
   "execution_count": null,
   "metadata": {
    "colab": {
     "base_uri": "https://localhost:8080/"
    },
    "id": "pfyl0UIdMF78",
    "outputId": "09e802df-c1ff-447c-8b3a-1fabca8ce975"
   },
   "outputs": [],
   "source": [
    "# в цикле for поочередно рассчитаем косинусное сходство каждого из имеющхся фильмов с новым фильмом\n",
    "for i, film in enumerate(films, 1):\n",
    "  print(f'Фильм {i} с оценками {film} имеет сходство с новым фильмом {np.round(similar(film, new_film), 3)}')"
   ]
  }
 ],
 "metadata": {
  "colab": {
   "provenance": []
  },
  "kernelspec": {
   "display_name": "Python 3 (ipykernel)",
   "language": "python",
   "name": "python3"
  },
  "language_info": {
   "codemirror_mode": {
    "name": "ipython",
    "version": 3
   },
   "file_extension": ".py",
   "mimetype": "text/x-python",
   "name": "python",
   "nbconvert_exporter": "python",
   "pygments_lexer": "ipython3",
   "version": "3.11.5"
  }
 },
 "nbformat": 4,
 "nbformat_minor": 1
}
